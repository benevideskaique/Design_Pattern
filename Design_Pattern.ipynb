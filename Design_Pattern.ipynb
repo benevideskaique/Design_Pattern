{
 "cells": [
  {
   "cell_type": "markdown",
   "metadata": {},
   "source": [
    "1. Padrão Criacional: Singleton com Configuração de Carro"
   ]
  },
  {
   "cell_type": "code",
   "execution_count": 4,
   "metadata": {},
   "outputs": [],
   "source": [
    "class ConfiguracaoCarro:\n",
    "    __instance = None\n",
    "\n",
    "    @staticmethod\n",
    "    def get_instance():\n",
    "        if ConfiguracaoCarro.__instance is None:\n",
    "            ConfiguracaoCarro.__instance = ConfiguracaoCarro()\n",
    "        return ConfiguracaoCarro.__instance\n",
    "\n",
    "    def __init__(self):\n",
    "        self.cor = \"prata\"\n",
    "        self.motor = \"1.0\"\n",
    "        self.ano = 2023\n",
    "\n",
    "    def set_cor(self, cor):\n",
    "        self.cor = cor"
   ]
  },
  {
   "cell_type": "markdown",
   "metadata": {},
   "source": [
    "2. Padrão Estrutural: Composite com Conjunto de Peças de Carro"
   ]
  },
  {
   "cell_type": "code",
   "execution_count": 5,
   "metadata": {},
   "outputs": [],
   "source": [
    "from abc import ABC, abstractmethod\n",
    "\n",
    "class PecaCarro(ABC):\n",
    "    @abstractmethod\n",
    "    def descricao(self):\n",
    "        pass\n",
    "\n",
    "class Motor(PecaCarro):\n",
    "    def descricao(self):\n",
    "        return \"Motor\"\n",
    "\n",
    "class Rodas(PecaCarro):\n",
    "    def descricao(self):\n",
    "        return \"Rodas\"\n",
    "\n",
    "class Carro(PecaCarro):\n",
    "    def __init__(self):\n",
    "        self.pecas = []\n",
    "\n",
    "    def adicionar_peca(self, peca):\n",
    "        self.pecas.append(peca)\n",
    "\n",
    "    def descricao(self):\n",
    "        return \"Carro com as seguintes peças: \" + \", \".join(peca.descricao() for peca in self.pecas)"
   ]
  },
  {
   "cell_type": "markdown",
   "metadata": {},
   "source": [
    "3. Padrão Comportamental: Observer com Alerta de Manutenção"
   ]
  },
  {
   "cell_type": "code",
   "execution_count": 6,
   "metadata": {},
   "outputs": [],
   "source": [
    "class Observador:\n",
    "    def atualizar(self, mensagem):\n",
    "        print(mensagem)\n",
    "\n",
    "class Carro:\n",
    "    def __init__(self):\n",
    "        self._observadores = []\n",
    "        self.km = 0\n",
    "\n",
    "    def adicionar_observador(self, observador):\n",
    "        self._observadores.append(observador)\n",
    "\n",
    "    def rodar(self, distancia):\n",
    "        self.km += distancia\n",
    "        if self.km % 10000 == 0:\n",
    "            self.notificar(\"É hora de realizar a manutenção!\")\n",
    "\n",
    "    def notificar(self, mensagem):\n",
    "        for observador in self._observadores:\n",
    "            observador.atualizar(mensagem)"
   ]
  }
 ],
 "metadata": {
  "kernelspec": {
   "display_name": "Python 3",
   "language": "python",
   "name": "python3"
  },
  "language_info": {
   "codemirror_mode": {
    "name": "ipython",
    "version": 3
   },
   "file_extension": ".py",
   "mimetype": "text/x-python",
   "name": "python",
   "nbconvert_exporter": "python",
   "pygments_lexer": "ipython3",
   "version": "3.12.4"
  }
 },
 "nbformat": 4,
 "nbformat_minor": 2
}
